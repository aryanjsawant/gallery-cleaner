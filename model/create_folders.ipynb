{
 "cells": [
  {
   "cell_type": "markdown",
   "metadata": {},
   "source": [
    "Creating folders\n",
    "|\n",
    "|\n",
    "v"
   ]
  },
  {
   "cell_type": "code",
   "execution_count": 1,
   "metadata": {},
   "outputs": [],
   "source": [
    "import os\n",
    "import random\n",
    "\n",
    "def create_and_split_data(base_path='data', new_data_path='Data', train_ratio=0.8, val_ratio=0.1):\n",
    "    # Define paths\n",
    "    spam_path = os.path.join(base_path, 'spam')\n",
    "    non_spam_path = os.path.join(base_path, 'non_spam')\n",
    "    \n",
    "    # Create new directory structure\n",
    "    for split in ['train', 'validation', 'test']:\n",
    "        os.makedirs(os.path.join(new_data_path, split, 'spam'), exist_ok=True)\n",
    "        os.makedirs(os.path.join(new_data_path, split, 'non_spam'), exist_ok=True)\n",
    "\n",
    "    # Helper function to split data\n",
    "    def split_and_move_files(src_path, new_data_path, label):\n",
    "        files = [f for f in os.listdir(src_path) if f.endswith('.jpg')]\n",
    "        random.shuffle(files)\n",
    "\n",
    "        n_train = int(len(files) * train_ratio)\n",
    "        n_val = int(len(files) * val_ratio)\n",
    "\n",
    "        for i, file in enumerate(files):\n",
    "            src_file = os.path.join(src_path, file)\n",
    "            if i < n_train:\n",
    "                dest_folder = os.path.join(new_data_path, 'train', label)\n",
    "            elif i < n_train + n_val:\n",
    "                dest_folder = os.path.join(new_data_path, 'validation', label)\n",
    "            else:\n",
    "                dest_folder = os.path.join(new_data_path, 'test', label)\n",
    "\n",
    "            dest_file = os.path.join(dest_folder, file)\n",
    "            os.rename(src_file, dest_file)  # Move the file\n",
    "\n",
    "    # Split and move files for each category\n",
    "    split_and_move_files(spam_path, new_data_path, 'spam')\n",
    "    split_and_move_files(non_spam_path, new_data_path, 'non_spam')\n",
    "\n",
    "# Run the function to create the directory structure and split the data\n",
    "create_and_split_data()\n"
   ]
  },
  {
   "cell_type": "code",
   "execution_count": null,
   "metadata": {},
   "outputs": [],
   "source": []
  }
 ],
 "metadata": {
  "kernelspec": {
   "display_name": ".venv",
   "language": "python",
   "name": "python3"
  },
  "language_info": {
   "codemirror_mode": {
    "name": "ipython",
    "version": 3
   },
   "file_extension": ".py",
   "mimetype": "text/x-python",
   "name": "python",
   "nbconvert_exporter": "python",
   "pygments_lexer": "ipython3",
   "version": "3.12.1"
  }
 },
 "nbformat": 4,
 "nbformat_minor": 2
}
